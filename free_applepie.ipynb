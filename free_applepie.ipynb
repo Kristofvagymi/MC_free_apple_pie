{
 "cells": [
  {
   "cell_type": "code",
   "execution_count": 62,
   "id": "da628290",
   "metadata": {},
   "outputs": [],
   "source": [
    "from selenium import webdriver\n",
    "from selenium.webdriver.chrome.service import Service\n",
    "from webdriver_manager.chrome import ChromeDriverManager\n",
    "from selenium.webdriver.common.by import By\n",
    "from selenium.webdriver.common.action_chains import ActionChains\n",
    "import time"
   ]
  },
  {
   "cell_type": "code",
   "execution_count": 2,
   "id": "001d23d3",
   "metadata": {},
   "outputs": [],
   "source": [
    "feedback_code_url = 'https://mcdonalds.fast-insight.com/voc/hu/hu'"
   ]
  },
  {
   "cell_type": "code",
   "execution_count": 17,
   "id": "417b4007",
   "metadata": {},
   "outputs": [],
   "source": [
    "code = '042bnvvyct18'"
   ]
  },
  {
   "cell_type": "code",
   "execution_count": 18,
   "id": "f57c2807",
   "metadata": {},
   "outputs": [],
   "source": [
    "assert len(code) == 12"
   ]
  },
  {
   "cell_type": "code",
   "execution_count": 3,
   "id": "56b905d0",
   "metadata": {},
   "outputs": [
    {
     "name": "stderr",
     "output_type": "stream",
     "text": [
      "\n",
      "\n",
      "====== WebDriver manager ======\n",
      "Current google-chrome version is 114.0.5735\n",
      "Get LATEST chromedriver version for 114.0.5735 google-chrome\n",
      "There is no [win32] chromedriver for browser 114.0.5735 in cache\n",
      "Trying to download new driver from https://chromedriver.storage.googleapis.com/114.0.5735.90/chromedriver_win32.zip\n",
      "Driver has been saved in cache [C:\\Users\\ivanicsk\\.wdm\\drivers\\chromedriver\\win32\\114.0.5735.90]\n"
     ]
    }
   ],
   "source": [
    "driver = webdriver.Chrome(service=Service(ChromeDriverManager().install()))"
   ]
  },
  {
   "cell_type": "code",
   "execution_count": 4,
   "id": "b900c785",
   "metadata": {},
   "outputs": [],
   "source": [
    "driver.get(feedback_code_url)"
   ]
  },
  {
   "cell_type": "markdown",
   "id": "0efcd06a",
   "metadata": {},
   "source": [
    "### Start feedback"
   ]
  },
  {
   "cell_type": "code",
   "execution_count": 15,
   "id": "92762aeb",
   "metadata": {},
   "outputs": [],
   "source": [
    "delivery_check = driver.find_element(by=By.CLASS_NAME, value='delivery-check')\n",
    "not_home_delivery = delivery_check.find_element(by=By.XPATH, value=\"//input[@value='no']\")"
   ]
  },
  {
   "cell_type": "code",
   "execution_count": 16,
   "id": "5cca40e3",
   "metadata": {},
   "outputs": [],
   "source": [
    "not_home_delivery.click()"
   ]
  },
  {
   "cell_type": "code",
   "execution_count": 19,
   "id": "f6b14bf8",
   "metadata": {},
   "outputs": [],
   "source": [
    "code_input = delivery_check.find_element(by=By.XPATH, value=\"//input[@name='code']\")\n",
    "code_input.send_keys(code)"
   ]
  },
  {
   "cell_type": "code",
   "execution_count": 30,
   "id": "de1d2263",
   "metadata": {},
   "outputs": [],
   "source": [
    "submit_button = driver.find_element(by=By.XPATH, value=\"//input[@name='code']/following-sibling::button\")\n",
    "submit_button.click()"
   ]
  },
  {
   "cell_type": "markdown",
   "id": "0fc34a2e",
   "metadata": {},
   "source": [
    "### Fill form"
   ]
  },
  {
   "cell_type": "code",
   "execution_count": 110,
   "id": "6493ddd4",
   "metadata": {},
   "outputs": [],
   "source": [
    "required_fields = driver.find_elements(by=By.CSS_SELECTOR, value='.subject-wrapper.page-block.CHOICEONE.withrequired:not(.hidden):not(.invisible)')"
   ]
  },
  {
   "cell_type": "markdown",
   "id": "d64897fa",
   "metadata": {},
   "source": [
    "Delete blocking floating progress bar"
   ]
  },
  {
   "cell_type": "code",
   "execution_count": 111,
   "id": "c0dcfe53",
   "metadata": {},
   "outputs": [],
   "source": [
    "js_script = '''document.getElementById('control-wrapper').setAttribute(\"hidden\",\"\");'''\n",
    "driver.execute_script(js_script)"
   ]
  },
  {
   "cell_type": "code",
   "execution_count": 138,
   "id": "c8ab900b",
   "metadata": {
    "scrolled": true
   },
   "outputs": [],
   "source": [
    "for required_field in required_fields:\n",
    "    no_further_questoin_options = required_field.find_elements(by=By.CSS_SELECTOR, value=\"div.option:not(.linkto)\")\n",
    "    every_options = required_field.find_elements(by=By.CSS_SELECTOR, value=\"div.option\")\n",
    "    \n",
    "    ActionChains(driver).move_to_element(every_options[-1]).perform()\n",
    "    time.sleep(0.5)\n",
    "    \n",
    "    if len(no_further_questoin_options) > 0:\n",
    "        no_further_questoin_options[0].click()\n",
    "    else:\n",
    "        every_options[0].click()\n",
    "        \n",
    "        time.sleep(0.5)\n",
    "        required_text_div = driver.find_elements(by=By.CSS_SELECTOR, value='.subject-wrapper.page-block.TXTSHORT.withrequired:not(.hidden):not(.invisible)')[-1]\n",
    "        required_text_input = required_text_div.find_element(by=By.XPATH, value=\".//input[@type='text']\")\n",
    "        ActionChains(driver).move_to_element(required_text_div).perform()\n",
    "        \n",
    "        time.sleep(0.5)\n",
    "        required_text_input.send_keys('Nagyon fincsi nagyon jo')\n",
    "        \n",
    "    time.sleep(1)"
   ]
  },
  {
   "cell_type": "markdown",
   "id": "d1136c72",
   "metadata": {},
   "source": [
    "### Submit"
   ]
  },
  {
   "cell_type": "code",
   "execution_count": 141,
   "id": "fabc1e64",
   "metadata": {},
   "outputs": [],
   "source": [
    "submit_button = driver.find_element(by=By.XPATH, value=\"//button[@type='submit']\")\n",
    "ActionChains(driver).move_to_element(submit_button).perform()"
   ]
  },
  {
   "cell_type": "code",
   "execution_count": 142,
   "id": "74e5c4c5",
   "metadata": {},
   "outputs": [],
   "source": [
    "time.sleep(0.5)"
   ]
  },
  {
   "cell_type": "code",
   "execution_count": 143,
   "id": "a92b0710",
   "metadata": {},
   "outputs": [],
   "source": [
    "submit_button.click()"
   ]
  },
  {
   "cell_type": "code",
   "execution_count": null,
   "id": "4001b0dc",
   "metadata": {},
   "outputs": [],
   "source": []
  }
 ],
 "metadata": {
  "kernelspec": {
   "display_name": "Python 3 (ipykernel)",
   "language": "python",
   "name": "python3"
  },
  "language_info": {
   "codemirror_mode": {
    "name": "ipython",
    "version": 3
   },
   "file_extension": ".py",
   "mimetype": "text/x-python",
   "name": "python",
   "nbconvert_exporter": "python",
   "pygments_lexer": "ipython3",
   "version": "3.10.8"
  }
 },
 "nbformat": 4,
 "nbformat_minor": 5
}
